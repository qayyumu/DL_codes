{
 "cells": [
  {
   "cell_type": "code",
   "execution_count": null,
   "id": "9b6eeef7-6e99-4703-b436-246746afaa95",
   "metadata": {},
   "outputs": [],
   "source": [
    "# !apt-get update && apt-get install -y git-all"
   ]
  },
  {
   "cell_type": "code",
   "execution_count": null,
   "id": "8d0c3643-1203-41ff-8b25-5f9b06ed20f0",
   "metadata": {},
   "outputs": [],
   "source": [
    "# !git init && dvc init"
   ]
  },
  {
   "cell_type": "code",
   "execution_count": null,
   "id": "98048245-689d-48bb-96ba-1d0e37ba9af8",
   "metadata": {},
   "outputs": [],
   "source": [
    "# import git \n",
    "# g = git.Git(os.getcwd()) \n",
    "# hexshas = g.log('--pretty=%H','--follow','--',\"Y_data.npy.dvc\").split('\\n') "
   ]
  },
  {
   "cell_type": "code",
   "execution_count": null,
   "id": "ff23ce4d-f9f6-4909-9136-03acf823d703",
   "metadata": {},
   "outputs": [],
   "source": [
    "# hexshas"
   ]
  },
  {
   "cell_type": "code",
   "execution_count": null,
   "id": "c5083620-d7f9-484b-99b6-592ad2dcbe25",
   "metadata": {},
   "outputs": [],
   "source": [
    "# !git config --global user.email \"danyail@mail.com\"\n",
    "# !git config --global user.name \"danzz006\""
   ]
  },
  {
   "cell_type": "code",
   "execution_count": 1,
   "id": "29c247ed-f16d-4c7a-89bb-18947442502b",
   "metadata": {},
   "outputs": [],
   "source": [
    "from sklearn.datasets import make_classification\n",
    "from sklearn.datasets import make_circles\n",
    "import numpy as np\n",
    "import os\n",
    "import matplotlib.pyplot as plt\n",
    "from pathlib import Path\n",
    "from PIL import Image\n",
    "import mlflow"
   ]
  },
  {
   "cell_type": "code",
   "execution_count": 2,
   "id": "40cc25cf-6134-4446-9c4b-304735e55397",
   "metadata": {
    "tags": []
   },
   "outputs": [
    {
     "data": {
      "text/plain": [
       "'When creating new experiment'"
      ]
     },
     "execution_count": 2,
     "metadata": {},
     "output_type": "execute_result"
    }
   ],
   "source": [
    "'''When creating new experiment'''\n",
    "# experiment_id = mlflow.create_experiment(\n",
    "#     \"Linear classifier\", \n",
    "#     artifact_location=Path.cwd().joinpath(\"./mlruns\").as_uri(),\n",
    "#     tags={\"version\":\"v1\", \"priority\":\"P1\"}\n",
    "# )"
   ]
  },
  {
   "cell_type": "code",
   "execution_count": 3,
   "id": "2fe04bc8-81b0-432f-8a91-031ddd4404d5",
   "metadata": {},
   "outputs": [],
   "source": [
    "mlflow.set_tracking_uri(\"sqlite:///mlruns/mlruns.db\")"
   ]
  },
  {
   "cell_type": "code",
   "execution_count": 4,
   "id": "ebee6806-f76f-41d1-a9bc-7ef60572b427",
   "metadata": {
    "tags": []
   },
   "outputs": [
    {
     "name": "stderr",
     "output_type": "stream",
     "text": [
      "2022/12/11 18:02:55 INFO mlflow.store.db.utils: Creating initial MLflow database tables...\n",
      "2022/12/11 18:02:55 INFO mlflow.store.db.utils: Updating database tables\n",
      "INFO  [alembic.runtime.migration] Context impl SQLiteImpl.\n",
      "INFO  [alembic.runtime.migration] Will assume non-transactional DDL.\n",
      "INFO  [alembic.runtime.migration] Running upgrade  -> 451aebb31d03, add metric step\n",
      "INFO  [alembic.runtime.migration] Running upgrade 451aebb31d03 -> 90e64c465722, migrate user column to tags\n",
      "INFO  [alembic.runtime.migration] Running upgrade 90e64c465722 -> 181f10493468, allow nulls for metric values\n",
      "INFO  [alembic.runtime.migration] Running upgrade 181f10493468 -> df50e92ffc5e, Add Experiment Tags Table\n",
      "INFO  [alembic.runtime.migration] Running upgrade df50e92ffc5e -> 7ac759974ad8, Update run tags with larger limit\n",
      "INFO  [alembic.runtime.migration] Running upgrade 7ac759974ad8 -> 89d4b8295536, create latest metrics table\n",
      "INFO  [89d4b8295536_create_latest_metrics_table_py] Migration complete!\n",
      "INFO  [alembic.runtime.migration] Running upgrade 89d4b8295536 -> 2b4d017a5e9b, add model registry tables to db\n",
      "INFO  [2b4d017a5e9b_add_model_registry_tables_to_db_py] Adding registered_models and model_versions tables to database.\n",
      "INFO  [2b4d017a5e9b_add_model_registry_tables_to_db_py] Migration complete!\n",
      "INFO  [alembic.runtime.migration] Running upgrade 2b4d017a5e9b -> cfd24bdc0731, Update run status constraint with killed\n",
      "INFO  [alembic.runtime.migration] Running upgrade cfd24bdc0731 -> 0a8213491aaa, drop_duplicate_killed_constraint\n",
      "INFO  [alembic.runtime.migration] Running upgrade 0a8213491aaa -> 728d730b5ebd, add registered model tags table\n",
      "INFO  [alembic.runtime.migration] Running upgrade 728d730b5ebd -> 27a6a02d2cf1, add model version tags table\n",
      "INFO  [alembic.runtime.migration] Running upgrade 27a6a02d2cf1 -> 84291f40a231, add run_link to model_version\n",
      "INFO  [alembic.runtime.migration] Running upgrade 84291f40a231 -> a8c4a736bde6, allow nulls for run_id\n",
      "INFO  [alembic.runtime.migration] Running upgrade a8c4a736bde6 -> 39d1c3be5f05, add_is_nan_constraint_for_metrics_tables_if_necessary\n",
      "INFO  [alembic.runtime.migration] Running upgrade 39d1c3be5f05 -> c48cb773bb87, reset_default_value_for_is_nan_in_metrics_table_for_mysql\n",
      "INFO  [alembic.runtime.migration] Running upgrade c48cb773bb87 -> bd07f7e963c5, create index on run_uuid\n",
      "INFO  [alembic.runtime.migration] Running upgrade bd07f7e963c5 -> 0c779009ac13, add deleted_time field to runs table\n",
      "INFO  [alembic.runtime.migration] Running upgrade 0c779009ac13 -> cc1f77228345, change param value length to 500\n",
      "INFO  [alembic.runtime.migration] Running upgrade cc1f77228345 -> 97727af70f4d, Add creation_time and last_update_time to experiments table\n",
      "INFO  [alembic.runtime.migration] Context impl SQLiteImpl.\n",
      "INFO  [alembic.runtime.migration] Will assume non-transactional DDL.\n",
      "2022/12/11 18:02:56 INFO mlflow.tracking.fluent: Experiment with name 'Linear classifier' does not exist. Creating a new experiment.\n"
     ]
    }
   ],
   "source": [
    "experiment = mlflow.set_experiment(\"Linear classifier\")"
   ]
  },
  {
   "cell_type": "code",
   "execution_count": 5,
   "id": "c96c8b6c-7ef3-496c-9062-ce5708c06fe8",
   "metadata": {},
   "outputs": [],
   "source": [
    "x,Y = make_classification(n_features=2,n_classes=2,n_samples=100,n_redundant=0,n_clusters_per_class=1)"
   ]
  },
  {
   "cell_type": "code",
   "execution_count": 6,
   "id": "d60ff697-bd1e-4637-96a9-9a838ead8d05",
   "metadata": {},
   "outputs": [],
   "source": [
    "with open(\"X_data.npy\", \"wb\") as fs_x:\n",
    "    np.save(fs_x, x)\n",
    "\n",
    "with open(\"Y_data.npy\", \"wb\") as fs_y:\n",
    "    np.save(fs_y, Y)"
   ]
  },
  {
   "cell_type": "code",
   "execution_count": 8,
   "id": "1b0502d3-1446-4a4a-9975-8841d060be22",
   "metadata": {
    "tags": []
   },
   "outputs": [
    {
     "name": "stdout",
     "output_type": "stream",
     "text": [
      "\n",
      "To track the changes with git, run:\n",
      "\n",
      "\tgit add Y_data.npy.dvc X_data.npy.dvc\n",
      "\n",
      "To enable auto staging, run:\n",
      "\n",
      "\tdvc config core.autostage true\n",
      "On branch master\n",
      "Your branch is ahead of 'origin/master' by 1 commit.\n",
      "  (use \"git push\" to publish your local commits)\n",
      "\n",
      "nothing to commit, working tree clean\n"
     ]
    }
   ],
   "source": [
    "!dvc add X_data.npy Y_data.npy\n",
    "!git add X_data.npy.dvc Y_data.npy.dvc .gitignore\n",
    "!git commit -m \"version 1.0.0 of data\"\n",
    "!git tag -a \"dvc_1\" -m \"save data for dvc first time\"\n",
    "# !git log"
   ]
  },
  {
   "cell_type": "code",
   "execution_count": 11,
   "id": "4ad35ceb-0845-4d4e-8622-a3bad6556e26",
   "metadata": {},
   "outputs": [],
   "source": [
    "class LinearClassifier:\n",
    "    def __init__(self, mlflow_exp_id):\n",
    "        self.mlflow_exp_id = mlflow_exp_id\n",
    "        # pass\n",
    "    def sigmoid(self,z):\n",
    "        return 1.0/(1. + np.exp(-z))\n",
    "\n",
    "    def loss(self,y,y_ht):\n",
    "        loss =  -np.mean( y*(np.log(y_ht)) - (1-y)*np.log(1-y_ht) )\n",
    "        return loss\n",
    "\n",
    "    def gradient(self,x,y,y_ht):\n",
    "        m = x.shape[0]\n",
    "        dw = (1/m)*np.dot(x.T,(y_ht-y)) #wrt w\n",
    "        db = (1/m)*np.sum((y_ht-y)) # wrt bias\n",
    "        return dw,db \n",
    "\n",
    "    def plot_dec_boundry(self,x,w,b,y,debug, save):\n",
    "        x1 = [min(x[:,0]), max(x[:,0])]\n",
    "        m = -w[0]/w[1]\n",
    "        c = -b/w[1]\n",
    "        x2 = m*x1 + c\n",
    "        plt.plot(x[:,0][y==0], x[:,1][y==0],'r^')\n",
    "        plt.plot(x[:,0][y==1], x[:,1][y==1],'bs')\n",
    "        plt.plot(x1,x2,'y-')\n",
    "        if debug:\n",
    "            plt.show()\n",
    "        if save:\n",
    "            plt.savefig(\"tmp.png\")\n",
    "\n",
    "    def normalize(self,x):\n",
    "        m,n = x.shape   #m : trg exmple, n: features\n",
    "        for i in range(n):\n",
    "            x = (x - x.mean(axis=0))/x.std(axis=0)\n",
    "        return x    \n",
    "\n",
    "    def fit(self, x,y,bs,epochs,lr):\n",
    "        m,n = x.shape\n",
    "        w = np.zeros((n,1))  ## or random ?\n",
    "        b = 0\n",
    "        y_ = y\n",
    "        y = y.reshape(m,1)\n",
    "        x = self.normalize(x)\n",
    "\n",
    "        losses = []\n",
    "        params = {\"learning_rate\": lr, \"batch_size\": bs, \"epochs\": epochs}\n",
    "        with mlflow.start_run(experiment_id=self.mlflow_exp_id, description=\"Linear classifier for data points\", run_name=f\"LC-{epochs}-{bs}-{lr}\") as run:\n",
    "            mlflow.log_params(params)        \n",
    "            for epoch in range(epochs):\n",
    "                for i in range((m-1)//bs+1):\n",
    "                    start_i = i*bs\n",
    "                    end_i = start_i + bs\n",
    "                    xb = x[start_i:end_i]\n",
    "                    yb = y[start_i:end_i]\n",
    "\n",
    "                    y_ht = self.sigmoid(np.dot(xb,w)+b)\n",
    "\n",
    "                    dw,db = self.gradient(xb,yb,y_ht)\n",
    "\n",
    "                    w -=lr*dw\n",
    "                    b -=lr*db\n",
    "\n",
    "                l = self.loss(y,self.sigmoid(np.dot(x,w)+b))\n",
    "                mlflow.log_metric(\"loss\", l)\n",
    "                losses.append(l)\n",
    "\n",
    "            y_ht = self.predict(x, w, b)\n",
    "            acc = self.accuracy(y, y_ht)\n",
    "            mlflow.log_metric(\"Acc\", acc)\n",
    "            self.plot_dec_boundry(x,w,b,y_,False, True)\n",
    "            mlflow.log_image(Image.open(\"tmp.png\"), \"dec_boundry.png\")\n",
    "            \n",
    "        return w,b,losses\n",
    "\n",
    "    def step_func(self,z):\n",
    "        return 1.0 if (z > 0) else 0.0\n",
    "\n",
    "       \n",
    "\n",
    "    def predict(self,x,w,b):\n",
    "\n",
    "        x = self.normalize(x)\n",
    "        preds = self.sigmoid((np.dot(x,w)+b))\n",
    "        pred_class = []\n",
    "\n",
    "        pred_class = [1 if i>0.5 else 0 for i in preds]\n",
    "\n",
    "        return np.array(pred_class)\n",
    "    \n",
    "    def accuracy(self,y, y_ht):\n",
    "        accuracy = np.sum(y == y_ht) / len(y)\n",
    "        return accuracy\n"
   ]
  },
  {
   "cell_type": "code",
   "execution_count": 13,
   "id": "33205a1a-09a1-4538-a930-7e8ef1f45885",
   "metadata": {},
   "outputs": [],
   "source": [
    "p = LinearClassifier(experiment.experiment_id)"
   ]
  },
  {
   "cell_type": "code",
   "execution_count": 14,
   "id": "3f68a736-f951-4944-b5a3-9c1e98d857a5",
   "metadata": {},
   "outputs": [
    {
     "data": {
      "image/png": "[encoded data removed]",
      "text/plain": [
       "<Figure size 432x288 with 1 Axes>"
      ]
     },
     "metadata": {
      "needs_background": "light"
     },
     "output_type": "display_data"
    }
   ],
   "source": [
    "w,b,loss = p.fit(x,Y,bs=10,epochs=40,lr=0.001)"
   ]
  },
  {
   "cell_type": "code",
   "execution_count": 15,
   "id": "1789879c-bf34-429e-9cba-4198e4236161",
   "metadata": {},
   "outputs": [],
   "source": [
    "class_pred = p.predict(x,w,b)"
   ]
  },
  {
   "cell_type": "code",
   "execution_count": 16,
   "id": "ad1d01e0-e61f-42b6-8788-e14a2233b16c",
   "metadata": {},
   "outputs": [
    {
     "name": "stdout",
     "output_type": "stream",
     "text": [
      "Accuracy=  90.0 %\n"
     ]
    }
   ],
   "source": [
    "print('Accuracy= ',p.accuracy(Y,class_pred) * 100,'%')"
   ]
  },
  {
   "cell_type": "code",
   "execution_count": 17,
   "id": "a46d2f42-ffb7-44c4-9ddb-8869fbf38fef",
   "metadata": {},
   "outputs": [
    {
     "data": {
      "image/png": "[encoded data removed]",
      "text/plain": [
       "<Figure size 432x288 with 2 Axes>"
      ]
     },
     "metadata": {
      "needs_background": "light"
     },
     "output_type": "display_data"
    }
   ],
   "source": [
    "plt.subplot(1,2,1)\n",
    "p.plot_dec_boundry(x,w,b,Y,0, False)\n",
    "plt.subplot(1,2,2)\n",
    "plt.plot(loss)\n",
    "plt.suptitle(['Accuray' + str(p.accuracy(Y,class_pred) * 100)])\n",
    "plt.show()"
   ]
  },
  {
   "cell_type": "code",
   "execution_count": 18,
   "id": "e04ef616-fe74-49f9-bb8a-5e274a8e7b38",
   "metadata": {},
   "outputs": [],
   "source": [
    "x,Y = make_classification(n_features=2,n_classes=2,n_samples=200,n_redundant=0,n_clusters_per_class=1)"
   ]
  },
  {
   "cell_type": "code",
   "execution_count": 19,
   "id": "4bd2bfdd-d136-4464-a8cc-de4c1d0eb8ad",
   "metadata": {},
   "outputs": [],
   "source": [
    "with open(\"X_data.npy\", \"wb\") as fs_x:\n",
    "    np.save(fs_x, x)\n",
    "\n",
    "with open(\"Y_data.npy\", \"wb\") as fs_y:\n",
    "    np.save(fs_y, Y)"
   ]
  },
  {
   "cell_type": "code",
   "execution_count": 20,
   "id": "9267f1c6-d30b-4fad-a525-e12b582e88be",
   "metadata": {
    "tags": []
   },
   "outputs": [
    {
     "name": "stdout",
     "output_type": "stream",
     "text": [
      "\n",
      "To track the changes with git, run:\n",
      "\n",
      "\tgit add X_data.npy.dvc Y_data.npy.dvc\n",
      "\n",
      "To enable auto staging, run:\n",
      "\n",
      "\tdvc config core.autostage true\n",
      "[master d48cea3] version 1.0.1 of data with increased samples 100 -> 200\n",
      " 2 files changed, 4 insertions(+), 4 deletions(-)\n"
     ]
    }
   ],
   "source": [
    "!dvc add X_data.npy Y_data.npy\n",
    "!git add X_data.npy.dvc Y_data.npy.dvc .gitignore\n",
    "!git commit -m \"version 1.0.1 of data with increased samples 100 -> 200\"\n",
    "!git tag -a \"dvc_2\" -m \"save data for dvc second time\"\n",
    "\n",
    "# !git log"
   ]
  },
  {
   "cell_type": "code",
   "execution_count": 23,
   "id": "d86951bd-352b-4c01-bbc7-b0ceb8cb1d7b",
   "metadata": {},
   "outputs": [
    {
     "data": {
      "image/png": "[encoded data removed]",
      "text/plain": [
       "<Figure size 432x288 with 1 Axes>"
      ]
     },
     "metadata": {
      "needs_background": "light"
     },
     "output_type": "display_data"
    }
   ],
   "source": [
    "w1,b1,loss1 = p.fit(x,Y,bs=10,epochs=40,lr=0.001)"
   ]
  },
  {
   "cell_type": "code",
   "execution_count": 24,
   "id": "cfa12829-ab0c-436b-af55-98b6f6d5bb28",
   "metadata": {},
   "outputs": [
    {
     "name": "stdout",
     "output_type": "stream",
     "text": [
      "Accuracy=  86.5 %\n"
     ]
    }
   ],
   "source": [
    "class_pred = p.predict(x,w1,b1)\n",
    "print('Accuracy= ',p.accuracy(Y,class_pred) * 100,'%')"
   ]
  },
  {
   "cell_type": "code",
   "execution_count": 25,
   "id": "9faca1ce-907e-49e3-94f4-689cd74cee03",
   "metadata": {
    "tags": []
   },
   "outputs": [
    {
     "data": {
      "image/png": "[encoded data removed]",
      "text/plain": [
       "<Figure size 432x288 with 2 Axes>"
      ]
     },
     "metadata": {
      "needs_background": "light"
     },
     "output_type": "display_data"
    }
   ],
   "source": [
    "plt.subplot(1,2,1)\n",
    "p.plot_dec_boundry(x,w1,b1,Y,0, False)\n",
    "plt.subplot(1,2,2)\n",
    "plt.plot(loss1)\n",
    "plt.suptitle(['Accuray' + str(p.accuracy(Y,class_pred) * 100)])\n",
    "plt.show()"
   ]
  },
  {
   "cell_type": "markdown",
   "id": "59b5218f-a642-414a-ab56-8e5f091d4590",
   "metadata": {},
   "source": [
    "## Reverting back data"
   ]
  },
  {
   "cell_type": "code",
   "execution_count": 29,
   "id": "50bbe14a-64c8-4dc7-aabe-0ac1c3845e78",
   "metadata": {},
   "outputs": [
    {
     "name": "stdout",
     "output_type": "stream",
     "text": [
      "Fetching origin\n"
     ]
    }
   ],
   "source": [
    "# !git log\n",
    "!git fetch --all --tags"
   ]
  },
  {
   "cell_type": "code",
   "execution_count": 27,
   "id": "95085bde-4364-4735-adb5-f9a04e3e125e",
   "metadata": {
    "tags": []
   },
   "outputs": [
    {
     "name": "stderr",
     "output_type": "stream",
     "text": [
      "error: pathspec '#059ce205b4be748d31fab6b18aa4d5028ebc48c5' did not match any file(s) known to git\n",
      "\u001b[33mWARNING\u001b[39m: No file hash info found for 'C:\\flask_app_docker\\DL_codes\\data'. It won't be created.\n",
      "\u001b[31mERROR\u001b[39m: Checkout failed for following targets:\n",
      "C:\\flask_app_docker\\DL_codes\\model.h5\n",
      "C:\\flask_app_docker\\DL_codes\\metrics.csv\n",
      "C:\\flask_app_docker\\DL_codes\\data\n",
      "Is your cache up to date?\n",
      "<\u001b[36mhttps://error.dvc.org/missing-files\u001b[39m>\n"
     ]
    }
   ],
   "source": [
    "!git checkout \"dvc_1\" #059ce205b4be748d31fab6b18aa4d5028ebc48c5\n",
    "!dvc checkout"
   ]
  },
  {
   "cell_type": "code",
   "execution_count": null,
   "id": "a66f6b0d-1637-4c2d-a5c6-dbd430550a71",
   "metadata": {},
   "outputs": [],
   "source": [
    "with open(\"X_data.npy\", \"rb\") as fs_x:\n",
    "    X = np.load(fs_x)\n",
    "    \n",
    "with open(\"Y_data.npy\", \"rb\") as fs_y:\n",
    "    Y = np.load(fs_y)"
   ]
  },
  {
   "cell_type": "code",
   "execution_count": null,
   "id": "9db8e8c7-ada6-4330-bded-fa1c4c21fe10",
   "metadata": {},
   "outputs": [],
   "source": [
    "X.shape, Y.shape"
   ]
  },
  {
   "cell_type": "code",
   "execution_count": null,
   "id": "9ecac2f5-838f-41cb-92d1-0be180ba5295",
   "metadata": {},
   "outputs": [],
   "source": [
    "w1,b1,loss1 = p.percep_train(X,Y,epochs=100,lr=0.01)"
   ]
  },
  {
   "cell_type": "code",
   "execution_count": null,
   "id": "b5bec1ae-b07e-43dc-9f07-a36459b3e8cc",
   "metadata": {},
   "outputs": [],
   "source": [
    "class_pred = p.predict(x,w1,b1)\n",
    "print('Accuracy= ',p.accuracy(Y,class_pred) * 100,'%')"
   ]
  }
 ],
 "metadata": {
  "kernelspec": {
   "display_name": "Python 3.9.7 ('base')",
   "language": "python",
   "name": "python3"
  },
  "language_info": {
   "codemirror_mode": {
    "name": "ipython",
    "version": 3
   },
   "file_extension": ".py",
   "mimetype": "text/x-python",
   "name": "python",
   "nbconvert_exporter": "python",
   "pygments_lexer": "ipython3",
   "version": "3.9.7"
  },
  "vscode": {
   "interpreter": {
    "hash": "ad2bdc8ecc057115af97d19610ffacc2b4e99fae6737bb82f5d7fb13d2f2c186"
   }
  }
 },
 "nbformat": 4,
 "nbformat_minor": 5
}
